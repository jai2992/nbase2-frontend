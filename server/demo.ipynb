{
 "cells": [
  {
   "cell_type": "code",
   "execution_count": 1,
   "metadata": {},
   "outputs": [],
   "source": [
    "from flask import Flask, jsonify, request"
   ]
  },
  {
   "cell_type": "code",
   "execution_count": 6,
   "metadata": {},
   "outputs": [
    {
     "name": "stdout",
     "output_type": "stream",
     "text": [
      " * Serving Flask app '__main__'\n",
      " * Debug mode: off\n"
     ]
    },
    {
     "name": "stderr",
     "output_type": "stream",
     "text": [
      "WARNING: This is a development server. Do not use it in a production deployment. Use a production WSGI server instead.\n",
      " * Running on http://127.0.0.1:5000\n",
      "Press CTRL+C to quit\n",
      "127.0.0.1 - - [19/Feb/2025 11:37:27] \"GET / HTTP/1.1\" 404 -\n",
      "127.0.0.1 - - [19/Feb/2025 11:37:27] \"GET /favicon.ico HTTP/1.1\" 404 -\n",
      "127.0.0.1 - - [19/Feb/2025 11:37:32] \"GET /get HTTP/1.1\" 404 -\n",
      "127.0.0.1 - - [19/Feb/2025 11:40:15] \"GET /books HTTP/1.1\" 200 -\n",
      "127.0.0.1 - - [19/Feb/2025 11:42:30] \"GET /books/1 HTTP/1.1\" 200 -\n",
      "127.0.0.1 - - [19/Feb/2025 11:42:36] \"GET /books/2 HTTP/1.1\" 200 -\n",
      "127.0.0.1 - - [19/Feb/2025 11:42:40] \"GET /books HTTP/1.1\" 200 -\n",
      "127.0.0.1 - - [19/Feb/2025 11:45:47] \"GET / HTTP/1.1\" 404 -\n",
      "127.0.0.1 - - [19/Feb/2025 11:45:52] \"GET /books HTTP/1.1\" 200 -\n"
     ]
    }
   ],
   "source": [
    "app = Flask(__name__)\n",
    "\n",
    "books = [\n",
    "    {'id': 1, 'title': '1984', 'author': 'George Orwell'},\n",
    "    {'id': 2, 'title': 'To Kill a Mockingbird', 'author': 'Harper Lee'}\n",
    "]\n",
    "\n",
    "@app.route('/books', methods=['GET'])\n",
    "def get_books():\n",
    "    return jsonify(books)\n",
    "\n",
    "@app.route('/books/<int:book_id>', methods=['GET'])\n",
    "def get_book(book_id):\n",
    "    book = next((book for book in books if book['id'] == book_id), None)\n",
    "    return jsonify(book) if book else ('', 404)\n",
    "\n",
    "@app.route('/books', methods=['POST'])\n",
    "def add_book():\n",
    "    new_book = request.get_json()\n",
    "    books.append(new_book)\n",
    "    return jsonify(new_book), 201\n",
    "\n",
    "@app.route('/books/<int:book_id>', methods=['PUT'])\n",
    "def update_book(book_id):\n",
    "    book = next((book for book in books if book['id'] == book_id), None)\n",
    "    if book:\n",
    "        data = request.get_json()\n",
    "        book.update(data)\n",
    "        return jsonify(book)\n",
    "    return ('', 404)\n",
    "\n",
    "@app.route('/books/<int:book_id>', methods=['DELETE'])\n",
    "def delete_book(book_id):\n",
    "    global books\n",
    "    books = [book for book in books if book['id'] != book_id]\n",
    "    return ('', 204)\n",
    "if __name__ == '__main__':\n",
    "    app.run(debug=False)"
   ]
  },
  {
   "cell_type": "code",
   "execution_count": null,
   "metadata": {},
   "outputs": [],
   "source": []
  }
 ],
 "metadata": {
  "kernelspec": {
   "display_name": "Python 3",
   "language": "python",
   "name": "python3"
  },
  "language_info": {
   "codemirror_mode": {
    "name": "ipython",
    "version": 3
   },
   "file_extension": ".py",
   "mimetype": "text/x-python",
   "name": "python",
   "nbconvert_exporter": "python",
   "pygments_lexer": "ipython3",
   "version": "3.11.9"
  }
 },
 "nbformat": 4,
 "nbformat_minor": 2
}
